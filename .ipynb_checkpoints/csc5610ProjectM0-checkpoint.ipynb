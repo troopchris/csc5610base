{
 "cells": [
  {
   "cell_type": "code",
   "execution_count": 1,
   "id": "56d03411-81da-40ef-bc05-1b88286c7e8e",
   "metadata": {},
   "outputs": [
    {
     "name": "stdout",
     "output_type": "stream",
     "text": [
      "Hello csc6510 World\n"
     ]
    }
   ],
   "source": [
    "print (\"Hello csc6510 World\")"
   ]
  },
  {
   "cell_type": "code",
   "execution_count": null,
   "id": "fdefac2f-9349-4891-adc7-c58afdf04c07",
   "metadata": {},
   "outputs": [],
   "source": []
  }
 ],
 "metadata": {
  "kernelspec": {
   "display_name": "Python 3 (ipykernel)",
   "language": "python",
   "name": "python3"
  },
  "language_info": {
   "codemirror_mode": {
    "name": "ipython",
    "version": 3
   },
   "file_extension": ".py",
   "mimetype": "text/x-python",
   "name": "python",
   "nbconvert_exporter": "python",
   "pygments_lexer": "ipython3",
   "version": "3.12.5"
  }
 },
 "nbformat": 4,
 "nbformat_minor": 5
}
